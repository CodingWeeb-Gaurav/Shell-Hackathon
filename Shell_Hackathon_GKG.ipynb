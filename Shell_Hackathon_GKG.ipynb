{
  "nbformat": 4,
  "nbformat_minor": 0,
  "metadata": {
    "colab": {
      "provenance": [],
      "authorship_tag": "ABX9TyMpVGXpnlrU1xB0umWc/G3K",
      "include_colab_link": true
    },
    "kernelspec": {
      "name": "python3",
      "display_name": "Python 3"
    },
    "language_info": {
      "name": "python"
    }
  },
  "cells": [
    {
      "cell_type": "markdown",
      "metadata": {
        "id": "view-in-github",
        "colab_type": "text"
      },
      "source": [
        "<a href=\"https://colab.research.google.com/github/CodingWeeb-Gaurav/Shell-Hackathon/blob/main/Shell_Hackathon_GKG.ipynb\" target=\"_parent\"><img src=\"https://colab.research.google.com/assets/colab-badge.svg\" alt=\"Open In Colab\"/></a>"
      ]
    },
    {
      "cell_type": "code",
      "execution_count": null,
      "metadata": {
        "id": "JxQgYdgREhTd"
      },
      "outputs": [],
      "source": [
        "#import necessary libraries\n",
        "import os\n",
        "import sys\n",
        "import pandas as pd # data manipulation\n",
        "import numpy as np # number manipulation\n",
        "import matplotlib.pyplot as plt #to plot data\n",
        "import seaborn as sns #to plot data easily\n",
        "import datetime as dt #to handle datetime\n",
        "\n",
        "# For Evalution we will use these libraries\n",
        "from sklearn.metrics import mean_squared_error, mean_absolute_error, explained_variance_score, r2_score\n",
        "from sklearn.metrics import mean_poisson_deviance, mean_gamma_deviance, accuracy_score\n",
        "from sklearn.preprocessing import MinMaxScaler\n",
        "\n",
        "# For model building we will use these libraries\n",
        "import tensorflow as tf\n",
        "from tensorflow.keras.models import Sequential\n",
        "from tensorflow.keras.layers import Dense, Dropout\n",
        "from tensorflow.keras.layers import LSTM\n",
        "\n",
        "\n",
        "# For PLotting we will use these libraries\n",
        "from itertools import cycle\n",
        "import plotly.graph_objects as go\n",
        "import plotly.express as px\n",
        "from plotly.subplots import make_subplots\n",
        "\n",
        "\n",
        "train_url = \"https://raw.githubusercontent.com/CodingWeeb-Gaurav/Shell-Hackathon/refs/heads/main/dataset/train.csv\" #\n",
        "test_url = \"https://raw.githubusercontent.com/CodingWeeb-Gaurav/Shell-Hackathon/refs/heads/main/dataset/test.csv\"   #\n",
        "sample_sol = \"https://raw.githubusercontent.com/CodingWeeb-Gaurav/Shell-Hackathon/refs/heads/main/dataset/sample_solution.csv\"\n",
        "train_df = pd.read_csv(train_url)\n",
        "test_df = pd.read_csv(test_url)\n",
        "\n",
        "print(\"Train data head:\")\n",
        "print(train_df.size())\n",
        "print(train_df.head())\n",
        "print(\"\\nTest data head:\")\n",
        "print(test_df.head())"
      ]
    }
  ]
}